{
 "cells": [
  {
   "cell_type": "markdown",
   "id": "b53d4bf5-bc95-4fbf-bab1-78807568d0af",
   "metadata": {},
   "source": [
    "# Setup and Importing"
   ]
  },
  {
   "cell_type": "code",
   "execution_count": 1,
   "id": "bc8ffe5b-16b5-4143-a086-59e59283ee43",
   "metadata": {},
   "outputs": [
    {
     "name": "stdout",
     "output_type": "stream",
     "text": [
      "Using transformers v4.25.1\n",
      "Using datasets v2.11.0\n"
     ]
    }
   ],
   "source": [
    "from utils import *\n",
    "\n",
    "setup_notebook()"
   ]
  },
  {
   "cell_type": "code",
   "execution_count": 2,
   "id": "6fc10fbc-2b2a-468a-9eec-739302dcddc1",
   "metadata": {},
   "outputs": [],
   "source": [
    "!apt-get install -qq git-lfs\n",
    "\n",
    "import os\n",
    "os.environ['TOKENIZERS_PARALLELISM']='false'\n",
    "\n",
    "import warnings, logging\n",
    "warnings.simplefilter('ignore')\n",
    "logging.disable(logging.WARNING)"
   ]
  },
  {
   "cell_type": "markdown",
   "id": "f4a919d5-a5ba-4f56-a080-fe05cd62afb3",
   "metadata": {
    "tags": []
   },
   "source": [
    "# Haystack"
   ]
  },
  {
   "cell_type": "markdown",
   "id": "5814d05d-f97f-40cb-b39f-bb0e97930096",
   "metadata": {},
   "source": [
    "## Initializing Haystack"
   ]
  },
  {
   "cell_type": "code",
   "execution_count": 3,
   "id": "72619788-0c58-4e54-9bcc-0f84de226c51",
   "metadata": {},
   "outputs": [],
   "source": [
    "if not os.path.exists('elasticsearch-7.9.2'):\n",
    "    ! wget https://artifacts.elastic.co/downloads/elasticsearch/elasticsearch-7.9.2-linux-x86_64.tar.gz -q\n",
    "    ! tar -xzf elasticsearch-7.9.2-linux-x86_64.tar.gz\n",
    "    ! chown -R daemon:daemon elasticsearch-7.9.2"
   ]
  },
  {
   "cell_type": "code",
   "execution_count": 4,
   "id": "53fbb3b7-7608-4487-87df-9a0fffc16e36",
   "metadata": {},
   "outputs": [],
   "source": [
    "%%bash --bg\n",
    "\n",
    "sudo -u daemon -- elasticsearch-7.9.2/bin/elasticsearch"
   ]
  },
  {
   "cell_type": "code",
   "execution_count": 5,
   "id": "5115d29d-de4a-464b-8d34-9bb7dcda7653",
   "metadata": {},
   "outputs": [],
   "source": [
    "import time\n",
    "\n",
    "time.sleep(30)"
   ]
  },
  {
   "cell_type": "code",
   "execution_count": 6,
   "id": "cf93e755-d024-4aae-8962-78efe326f2a0",
   "metadata": {},
   "outputs": [
    {
     "name": "stdout",
     "output_type": "stream",
     "text": [
      "{\n",
      "  \"name\" : \"nsh6lp2hal\",\n",
      "  \"cluster_name\" : \"elasticsearch\",\n",
      "  \"cluster_uuid\" : \"84RYn7Q3Rr-3lyKlq_dCdw\",\n",
      "  \"version\" : {\n",
      "    \"number\" : \"7.9.2\",\n",
      "    \"build_flavor\" : \"default\",\n",
      "    \"build_type\" : \"tar\",\n",
      "    \"build_hash\" : \"d34da0ea4a966c4e49417f2da2f244e3e97b4e6e\",\n",
      "    \"build_date\" : \"2020-09-23T00:45:33.626720Z\",\n",
      "    \"build_snapshot\" : false,\n",
      "    \"lucene_version\" : \"8.6.2\",\n",
      "    \"minimum_wire_compatibility_version\" : \"6.8.0\",\n",
      "    \"minimum_index_compatibility_version\" : \"6.0.0-beta1\"\n",
      "  },\n",
      "  \"tagline\" : \"You Know, for Search\"\n",
      "}\n"
     ]
    }
   ],
   "source": [
    "!curl -X GET \"localhost:9200/?pretty\""
   ]
  },
  {
   "cell_type": "code",
   "execution_count": 7,
   "id": "68c02bfc-0c92-41a4-819e-5256b147792f",
   "metadata": {},
   "outputs": [],
   "source": [
    "from haystack.document_stores import ElasticsearchDocumentStore\n",
    "\n",
    "host=os.environ.get(\"ELASTICSEARCH_HOST\", \"localhost\")\n",
    "document_store=ElasticsearchDocumentStore(\n",
    "    host=host,\n",
    "    port=9200,\n",
    "    username=\"elastic\",\n",
    "    password=\"32HKbWu8IFllgjU67oLNWQfz\",\n",
    "    index='documents'\n",
    ")"
   ]
  },
  {
   "cell_type": "code",
   "execution_count": 8,
   "id": "e3e4b07c-ef2f-4aee-86b9-01883f6a178a",
   "metadata": {},
   "outputs": [
    {
     "name": "stdout",
     "output_type": "stream",
     "text": [
      "We have 2981 documents i document store.\n"
     ]
    }
   ],
   "source": [
    "print(f\"We have {document_store.get_document_count()} documents i document store.\")"
   ]
  },
  {
   "cell_type": "code",
   "execution_count": 9,
   "id": "dae06b4c-5a74-4d0c-a2f7-6e9cc2992c32",
   "metadata": {},
   "outputs": [],
   "source": [
    "from haystack.nodes import BM25Retriever\n",
    "\n",
    "bm25_retriever=BM25Retriever(document_store=document_store)"
   ]
  },
  {
   "cell_type": "code",
   "execution_count": 10,
   "id": "836dd335-2680-4d30-9438-a9812ac43934",
   "metadata": {},
   "outputs": [],
   "source": [
    "from haystack.nodes import FARMReader\n",
    "\n",
    "max_seq_length, doc_stride=384, 128\n",
    "\n",
    "reader=FARMReader(model_name_or_path='mdeberta-model',\n",
    "                  progress_bar=False,\n",
    "                  max_seq_len=max_seq_length,\n",
    "                  doc_stride=doc_stride,\n",
    "                  return_no_answer=True)"
   ]
  },
  {
   "cell_type": "code",
   "execution_count": 11,
   "id": "268036ab-36b9-4241-9d6c-1bb160bf65f5",
   "metadata": {},
   "outputs": [],
   "source": [
    "from haystack.pipelines import ExtractiveQAPipeline\n",
    "\n",
    "pipe=ExtractiveQAPipeline(reader, bm25_retriever)"
   ]
  },
  {
   "cell_type": "code",
   "execution_count": 12,
   "id": "7cc80fba-0e3a-4981-8255-9972620cd5ce",
   "metadata": {},
   "outputs": [
    {
     "name": "stdout",
     "output_type": "stream",
     "text": [
      "Running on local URL:  http://127.0.0.1:7860\n",
      "Running on public URL: https://1959adc70ce4afdf9d.gradio.live\n",
      "\n",
      "This share link expires in 72 hours. For free permanent hosting and GPU upgrades (NEW!), check out Spaces: https://huggingface.co/spaces\n"
     ]
    },
    {
     "data": {
      "text/html": [
       "<div><iframe src=\"https://1959adc70ce4afdf9d.gradio.live\" width=\"100%\" height=\"500\" allow=\"autoplay; camera; microphone; clipboard-read; clipboard-write;\" frameborder=\"0\" allowfullscreen></iframe></div>"
      ],
      "text/plain": [
       "<IPython.core.display.HTML object>"
      ]
     },
     "metadata": {},
     "output_type": "display_data"
    },
    {
     "data": {
      "text/plain": []
     },
     "execution_count": 12,
     "metadata": {},
     "output_type": "execute_result"
    }
   ],
   "source": [
    "import gradio as gr\n",
    "\n",
    "def qa_model(question):\n",
    "    preds=pipe.run(query=question, params={'Retriever':{'top_k':3},\n",
    "                                           'Reader':{'top_k':3}})\n",
    "    return preds['answers'][0].answer\n",
    "\n",
    "app=gr.Interface(fn=qa_model, inputs=[\"text\"], \n",
    "                 outputs=[\"textbox\"])\n",
    "app.launch(share=True)"
   ]
  },
  {
   "cell_type": "code",
   "execution_count": null,
   "id": "a139c1bd-addc-4123-ab9e-4851e7aec60c",
   "metadata": {},
   "outputs": [],
   "source": []
  }
 ],
 "metadata": {
  "kernelspec": {
   "display_name": "Python 3 (ipykernel)",
   "language": "python",
   "name": "python3"
  },
  "language_info": {
   "codemirror_mode": {
    "name": "ipython",
    "version": 3
   },
   "file_extension": ".py",
   "mimetype": "text/x-python",
   "name": "python",
   "nbconvert_exporter": "python",
   "pygments_lexer": "ipython3",
   "version": "3.9.13"
  }
 },
 "nbformat": 4,
 "nbformat_minor": 5
}
