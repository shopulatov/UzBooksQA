{
 "cells": [
  {
   "cell_type": "markdown",
   "id": "b53d4bf5-bc95-4fbf-bab1-78807568d0af",
   "metadata": {},
   "source": [
    "# Setup and Importing"
   ]
  },
  {
   "cell_type": "code",
   "execution_count": 1,
   "id": "bc8ffe5b-16b5-4143-a086-59e59283ee43",
   "metadata": {},
   "outputs": [
    {
     "name": "stdout",
     "output_type": "stream",
     "text": [
      "Using transformers v4.25.1\n",
      "Using datasets v2.11.0\n"
     ]
    }
   ],
   "source": [
    "from utils import *\n",
    "\n",
    "setup_notebook()"
   ]
  },
  {
   "cell_type": "code",
   "execution_count": 2,
   "id": "6fc10fbc-2b2a-468a-9eec-739302dcddc1",
   "metadata": {},
   "outputs": [],
   "source": [
    "!apt-get install -qq git-lfs\n",
    "\n",
    "import os\n",
    "os.environ['TOKENIZERS_PARALLELISM']='false'\n",
    "\n",
    "import warnings, logging\n",
    "warnings.simplefilter('ignore')\n",
    "logging.disable(logging.WARNING)"
   ]
  },
  {
   "cell_type": "code",
   "execution_count": 4,
   "id": "836dd335-2680-4d30-9438-a9812ac43934",
   "metadata": {},
   "outputs": [],
   "source": [
    "from haystack.nodes import FARMReader\n",
    "\n",
    "model_ckpt='timpal0l/mdeberta-v3-base-squad2'\n",
    "max_seq_length, doc_stride=384, 128\n",
    "\n",
    "reader=FARMReader(model_name_or_path=model_ckpt,\n",
    "                  progress_bar=False,\n",
    "                  max_seq_len=max_seq_length,\n",
    "                  doc_stride=doc_stride,\n",
    "                  return_no_answer=True)"
   ]
  },
  {
   "cell_type": "code",
   "execution_count": 5,
   "id": "b50393ca-dc67-44f9-9ed3-d870edcada76",
   "metadata": {},
   "outputs": [
    {
     "data": {
      "application/vnd.jupyter.widget-view+json": {
       "model_id": "d72592765cc545d686cc6a3c5e69546b",
       "version_major": 2,
       "version_minor": 0
      },
      "text/plain": [
       "Preprocessing dataset:   0%|          | 0/1 [00:00<?, ? Dicts/s]"
      ]
     },
     "metadata": {},
     "output_type": "display_data"
    },
    {
     "data": {
      "application/vnd.jupyter.widget-view+json": {
       "model_id": "370cc72c38204561a591dfbaf1113cfe",
       "version_major": 2,
       "version_minor": 0
      },
      "text/plain": [
       "Preprocessing dataset:   0%|          | 0/1 [00:00<?, ? Dicts/s]"
      ]
     },
     "metadata": {},
     "output_type": "display_data"
    }
   ],
   "source": [
    "train_filename='train.json'\n",
    "dev_filename='dev.json'\n",
    "\n",
    "reader.train(data_dir='data/', use_gpu=True, n_epochs=3, batch_size=16,\n",
    "             train_filename=train_filename, dev_filename=dev_filename)\n",
    "reader.save('mdeberta-model/')"
   ]
  },
  {
   "cell_type": "code",
   "execution_count": 3,
   "id": "b7d94026-7ea7-4db9-be92-15ec94c9c442",
   "metadata": {},
   "outputs": [
    {
     "data": {
      "application/vnd.jupyter.widget-view+json": {
       "model_id": "511a2b5af75d4e24b2a2a9fa7ab038f3",
       "version_major": 2,
       "version_minor": 0
      },
      "text/plain": [
       "Downloading (…)lve/main/config.json:   0%|          | 0.00/612 [00:00<?, ?B/s]"
      ]
     },
     "metadata": {},
     "output_type": "display_data"
    },
    {
     "data": {
      "application/vnd.jupyter.widget-view+json": {
       "model_id": "c4089990214c4288a435b2fed3272cd3",
       "version_major": 2,
       "version_minor": 0
      },
      "text/plain": [
       "Downloading pytorch_model.bin:   0%|          | 0.00/334M [00:00<?, ?B/s]"
      ]
     },
     "metadata": {},
     "output_type": "display_data"
    },
    {
     "data": {
      "application/vnd.jupyter.widget-view+json": {
       "model_id": "bddcf1bb0d24434faa5a5cce02a2777d",
       "version_major": 2,
       "version_minor": 0
      },
      "text/plain": [
       "Downloading (…)olve/main/vocab.json:   0%|          | 0.00/1.32M [00:00<?, ?B/s]"
      ]
     },
     "metadata": {},
     "output_type": "display_data"
    },
    {
     "data": {
      "application/vnd.jupyter.widget-view+json": {
       "model_id": "ba1fe54d7ec947d8b3833ff3aab593fb",
       "version_major": 2,
       "version_minor": 0
      },
      "text/plain": [
       "Downloading (…)olve/main/merges.txt:   0%|          | 0.00/964k [00:00<?, ?B/s]"
      ]
     },
     "metadata": {},
     "output_type": "display_data"
    }
   ],
   "source": [
    "from haystack.nodes import FARMReader\n",
    "\n",
    "model_ckpt='rifkat/uztext-3Gb-BPE-Roberta'\n",
    "max_seq_length, doc_stride=384, 128\n",
    "\n",
    "reader=FARMReader(model_name_or_path=model_ckpt,\n",
    "                  progress_bar=False,\n",
    "                  max_seq_len=max_seq_length,\n",
    "                  doc_stride=doc_stride,\n",
    "                  return_no_answer=True)"
   ]
  },
  {
   "cell_type": "code",
   "execution_count": 4,
   "id": "b3662718-04aa-4b0f-a8ac-d368f449a66f",
   "metadata": {},
   "outputs": [
    {
     "data": {
      "application/vnd.jupyter.widget-view+json": {
       "model_id": "96ad9ec913874509b3009e5e493abb3d",
       "version_major": 2,
       "version_minor": 0
      },
      "text/plain": [
       "Preprocessing dataset:   0%|          | 0/1 [00:00<?, ? Dicts/s]"
      ]
     },
     "metadata": {},
     "output_type": "display_data"
    },
    {
     "data": {
      "application/vnd.jupyter.widget-view+json": {
       "model_id": "247bd66187914e92830f5b2192ec7fc9",
       "version_major": 2,
       "version_minor": 0
      },
      "text/plain": [
       "Preprocessing dataset:   0%|          | 0/1 [00:00<?, ? Dicts/s]"
      ]
     },
     "metadata": {},
     "output_type": "display_data"
    }
   ],
   "source": [
    "train_filename='train.json'\n",
    "dev_filename='dev.json'\n",
    "\n",
    "reader.train(data_dir='data/', use_gpu=True, n_epochs=3, batch_size=16,\n",
    "             train_filename=train_filename, dev_filename=dev_filename)\n",
    "reader.save('uzroberta-model/')"
   ]
  },
  {
   "cell_type": "code",
   "execution_count": null,
   "id": "72eb6355-ced0-489d-97ad-28c677a81005",
   "metadata": {},
   "outputs": [],
   "source": []
  }
 ],
 "metadata": {
  "kernelspec": {
   "display_name": "Python 3 (ipykernel)",
   "language": "python",
   "name": "python3"
  },
  "language_info": {
   "codemirror_mode": {
    "name": "ipython",
    "version": 3
   },
   "file_extension": ".py",
   "mimetype": "text/x-python",
   "name": "python",
   "nbconvert_exporter": "python",
   "pygments_lexer": "ipython3",
   "version": "3.9.13"
  }
 },
 "nbformat": 4,
 "nbformat_minor": 5
}
