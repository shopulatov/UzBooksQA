{
 "cells": [
  {
   "cell_type": "code",
   "execution_count": 1,
   "metadata": {},
   "outputs": [
    {
     "data": {
      "text/plain": [
       "3051"
      ]
     },
     "execution_count": 1,
     "metadata": {},
     "output_type": "execute_result"
    }
   ],
   "source": [
    "import json\n",
    "\n",
    "with open('data/books.json', 'r') as f:\n",
    "    books = json.load(f)\n",
    "\n",
    "len(books)"
   ]
  },
  {
   "cell_type": "code",
   "execution_count": 18,
   "metadata": {
    "tags": []
   },
   "outputs": [
    {
     "data": {
      "text/plain": [
       "3051"
      ]
     },
     "execution_count": 18,
     "metadata": {},
     "output_type": "execute_result"
    }
   ],
   "source": [
    "import re\n",
    "\n",
    "titles_and_descriptions = []\n",
    "\n",
    "for book in books:\n",
    "    title = book['name'].replace(' ', '_').replace('‘','').replace('’', '').replace('/','').replace(',','').replace('.','')\n",
    "    title=title.replace('\"', '').replace(\"'\", '').replace('»','').replace('«','').replace('“', '').replace('”', '').replace(':', '')\n",
    "    if len(title) > 200:\n",
    "        title = title[:200]\n",
    "\n",
    "    description = book['name'] + '\\n'\n",
    "    if 'description' in book.keys():\n",
    "        description += book['description']\n",
    "    if 'num_pages' in book.keys():\n",
    "        description += f\"\\nKitob {book['num_pages']} betdan iborat.\"\n",
    "    if 'year_published' in book.keys():\n",
    "        description += f\" {book['year_published']}-yilda chop etilgan.\"\n",
    "    if 'url' in book.keys():\n",
    "        description += f\"\\nKo'proq: {book['url']}\"\n",
    "\n",
    "    if title is not None and title != '' and description is not None and description != '':\n",
    "        titles_and_descriptions.append((title,description))\n",
    "        \n",
    "len(titles_and_descriptions)"
   ]
  },
  {
   "cell_type": "code",
   "execution_count": 22,
   "metadata": {},
   "outputs": [],
   "source": [
    "import pandas as pd\n",
    "\n",
    "titles_dict=[]\n",
    "for title, description in titles_and_descriptions:\n",
    "    titles_dict.append({'title':title, 'description':description})\n",
    "\n",
    "df=pd.DataFrame(titles_dict, columns=['title', 'description'])\n",
    "df.to_csv('data/books.csv', index=False)"
   ]
  },
  {
   "cell_type": "code",
   "execution_count": 16,
   "metadata": {},
   "outputs": [
    {
     "name": "stdout",
     "output_type": "stream",
     "text": [
      "Done! Book titles and descriptions have been written to individual text files.\n"
     ]
    }
   ],
   "source": [
    "for title, desc in titles_and_descriptions:\n",
    "    with open(f\"data/{title}.txt\", \"w\") as f:\n",
    "        f.write(desc)\n",
    "        \n",
    "print(\"Done! Book titles and descriptions have been written to individual text files.\")"
   ]
  },
  {
   "cell_type": "code",
   "execution_count": 1,
   "metadata": {},
   "outputs": [],
   "source": [
    "import json\n",
    "from sklearn.model_selection import train_test_split\n",
    "\n",
    "# Load the dataset from the JSON file\n",
    "with open(\"data/answers.json\", \"r\") as f:\n",
    "    data = json.load(f)\n",
    "\n",
    "# Split the data into train and validation sets\n",
    "train_data, val_data = train_test_split(data[\"data\"], test_size=0.1, random_state=42)\n",
    "\n",
    "# Convert the train and validation sets into dictionaries in the SQuAD format\n",
    "train_squad = {\"data\": train_data}\n",
    "val_squad = {\"data\": val_data}\n",
    "\n",
    "# Save the train and validation dictionaries to separate JSON files\n",
    "with open(\"data/train.json\", \"w\") as f:\n",
    "    json.dump(train_squad, f)\n",
    "\n",
    "with open(\"data/dev.json\", \"w\") as f:\n",
    "    json.dump(val_squad, f)"
   ]
  },
  {
   "cell_type": "code",
   "execution_count": null,
   "metadata": {},
   "outputs": [],
   "source": []
  }
 ],
 "metadata": {
  "kernelspec": {
   "display_name": "Python 3 (ipykernel)",
   "language": "python",
   "name": "python3"
  },
  "language_info": {
   "codemirror_mode": {
    "name": "ipython",
    "version": 3
   },
   "file_extension": ".py",
   "mimetype": "text/x-python",
   "name": "python",
   "nbconvert_exporter": "python",
   "pygments_lexer": "ipython3",
   "version": "3.9.13"
  }
 },
 "nbformat": 4,
 "nbformat_minor": 4
}
