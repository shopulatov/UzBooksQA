{
 "cells": [
  {
   "cell_type": "code",
   "execution_count": 68,
   "metadata": {},
   "outputs": [
    {
     "data": {
      "text/plain": [
       "3051"
      ]
     },
     "execution_count": 68,
     "metadata": {},
     "output_type": "execute_result"
    }
   ],
   "source": [
    "import json\n",
    "\n",
    "with open('scraper/books.json', 'r') as f:\n",
    "    books = json.load(f)\n",
    "\n",
    "len(books)"
   ]
  },
  {
   "cell_type": "code",
   "execution_count": 69,
   "metadata": {},
   "outputs": [
    {
     "data": {
      "text/plain": [
       "3051"
      ]
     },
     "execution_count": 69,
     "metadata": {},
     "output_type": "execute_result"
    }
   ],
   "source": [
    "import re\n",
    "\n",
    "titles_and_descriptions = []\n",
    "\n",
    "for book in books:\n",
    "    title = book['name'].replace(' ', '_').replace('‘','').replace('’', '').replace('/','').replace(',','').replace('.','')\n",
    "    title=title.replace('\"', '').replace(\"'\", '').replace('»','').replace('«','').replace('“', '').replace('”', '').replace(':', '')\n",
    "    if len(title) > 200:\n",
    "        title = title[:200]\n",
    "\n",
    "    description = ''\n",
    "    if 'description' in book.keys():\n",
    "        description += book['description']\n",
    "    if 'num_pages' in book.keys():\n",
    "        description += f\"\\nKitob {book['num_pages']} betdan iborat.\"\n",
    "    if 'year_published' in book.keys():\n",
    "        description += f\"\\n{book['year_published']}-yilda chop etilgan.\"\n",
    "\n",
    "    if title is not None and title != '' and description is not None and description != '':\n",
    "        titles_and_descriptions.append((title, description))\n",
    "\n",
    "len(titles_and_descriptions)"
   ]
  },
  {
   "cell_type": "code",
   "execution_count": 70,
   "metadata": {},
   "outputs": [
    {
     "name": "stdout",
     "output_type": "stream",
     "text": [
      "Done! Book titles and descriptions have been written to individual text files.\n"
     ]
    }
   ],
   "source": [
    "for title, desc in titles_and_descriptions:\n",
    "    with open(f\"data/{title}.txt\", \"w\") as f:\n",
    "        f.write(desc + \"\\n\")\n",
    "        \n",
    "print(\"Done! Book titles and descriptions have been written to individual text files.\")"
   ]
  },
  {
   "cell_type": "code",
   "execution_count": null,
   "metadata": {},
   "outputs": [],
   "source": []
  }
 ],
 "metadata": {
  "kernelspec": {
   "display_name": "base",
   "language": "python",
   "name": "python3"
  },
  "language_info": {
   "codemirror_mode": {
    "name": "ipython",
    "version": 3
   },
   "file_extension": ".py",
   "mimetype": "text/x-python",
   "name": "python",
   "nbconvert_exporter": "python",
   "pygments_lexer": "ipython3",
   "version": "3.10.10"
  },
  "orig_nbformat": 4
 },
 "nbformat": 4,
 "nbformat_minor": 2
}
