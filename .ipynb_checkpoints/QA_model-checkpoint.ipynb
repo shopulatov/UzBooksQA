{
 "cells": [
  {
   "cell_type": "markdown",
   "id": "b53d4bf5-bc95-4fbf-bab1-78807568d0af",
   "metadata": {},
   "source": [
    "# Setup and Importing"
   ]
  },
  {
   "cell_type": "code",
   "execution_count": 1,
   "id": "bc8ffe5b-16b5-4143-a086-59e59283ee43",
   "metadata": {},
   "outputs": [
    {
     "name": "stdout",
     "output_type": "stream",
     "text": [
      "Using transformers v4.25.1\n",
      "Using datasets v2.11.0\n"
     ]
    }
   ],
   "source": [
    "from utils import *\n",
    "\n",
    "setup_notebook()"
   ]
  },
  {
   "cell_type": "code",
   "execution_count": 2,
   "id": "6fc10fbc-2b2a-468a-9eec-739302dcddc1",
   "metadata": {},
   "outputs": [],
   "source": [
    "!apt-get install -qq git-lfs\n",
    "\n",
    "import os\n",
    "os.environ['TOKENIZERS_PARALLELISM']='false'\n",
    "\n",
    "import warnings, logging\n",
    "warnings.simplefilter('ignore')\n",
    "logging.disable(logging.WARNING)"
   ]
  },
  {
   "cell_type": "markdown",
   "id": "f4a919d5-a5ba-4f56-a080-fe05cd62afb3",
   "metadata": {
    "tags": []
   },
   "source": [
    "# Haystack"
   ]
  },
  {
   "cell_type": "markdown",
   "id": "5814d05d-f97f-40cb-b39f-bb0e97930096",
   "metadata": {},
   "source": [
    "## Initializing Haystack"
   ]
  },
  {
   "cell_type": "code",
   "execution_count": 3,
   "id": "72619788-0c58-4e54-9bcc-0f84de226c51",
   "metadata": {},
   "outputs": [],
   "source": [
    "if not os.path.exists('elasticsearch-7.9.2'):\n",
    "    ! wget https://artifacts.elastic.co/downloads/elasticsearch/elasticsearch-7.9.2-linux-x86_64.tar.gz -q\n",
    "    ! tar -xzf elasticsearch-7.9.2-linux-x86_64.tar.gz\n",
    "    ! chown -R daemon:daemon elasticsearch-7.9.2"
   ]
  },
  {
   "cell_type": "code",
   "execution_count": 4,
   "id": "53fbb3b7-7608-4487-87df-9a0fffc16e36",
   "metadata": {},
   "outputs": [],
   "source": [
    "%%bash --bg\n",
    "\n",
    "sudo -u daemon -- elasticsearch-7.9.2/bin/elasticsearch"
   ]
  },
  {
   "cell_type": "code",
   "execution_count": 5,
   "id": "5115d29d-de4a-464b-8d34-9bb7dcda7653",
   "metadata": {},
   "outputs": [],
   "source": [
    "import time\n",
    "\n",
    "time.sleep(30)"
   ]
  },
  {
   "cell_type": "code",
   "execution_count": 6,
   "id": "cf93e755-d024-4aae-8962-78efe326f2a0",
   "metadata": {},
   "outputs": [
    {
     "name": "stdout",
     "output_type": "stream",
     "text": [
      "{\n",
      "  \"name\" : \"nsh6lp2hal\",\n",
      "  \"cluster_name\" : \"elasticsearch\",\n",
      "  \"cluster_uuid\" : \"84RYn7Q3Rr-3lyKlq_dCdw\",\n",
      "  \"version\" : {\n",
      "    \"number\" : \"7.9.2\",\n",
      "    \"build_flavor\" : \"default\",\n",
      "    \"build_type\" : \"tar\",\n",
      "    \"build_hash\" : \"d34da0ea4a966c4e49417f2da2f244e3e97b4e6e\",\n",
      "    \"build_date\" : \"2020-09-23T00:45:33.626720Z\",\n",
      "    \"build_snapshot\" : false,\n",
      "    \"lucene_version\" : \"8.6.2\",\n",
      "    \"minimum_wire_compatibility_version\" : \"6.8.0\",\n",
      "    \"minimum_index_compatibility_version\" : \"6.0.0-beta1\"\n",
      "  },\n",
      "  \"tagline\" : \"You Know, for Search\"\n",
      "}\n"
     ]
    }
   ],
   "source": [
    "!curl -X GET \"localhost:9200/?pretty\""
   ]
  },
  {
   "cell_type": "code",
   "execution_count": 7,
   "id": "68c02bfc-0c92-41a4-819e-5256b147792f",
   "metadata": {},
   "outputs": [],
   "source": [
    "from haystack.document_stores import ElasticsearchDocumentStore\n",
    "\n",
    "host=os.environ.get(\"ELASTICSEARCH_HOST\", \"localhost\")\n",
    "document_store=ElasticsearchDocumentStore(\n",
    "    host=host,\n",
    "    username=\"\",\n",
    "    password=\"\",\n",
    "    index='documents'\n",
    ")"
   ]
  },
  {
   "cell_type": "code",
   "execution_count": 8,
   "id": "e3e4b07c-ef2f-4aee-86b9-01883f6a178a",
   "metadata": {},
   "outputs": [
    {
     "name": "stdout",
     "output_type": "stream",
     "text": [
      "We have 2981 documents i document store.\n"
     ]
    }
   ],
   "source": [
    "print(f\"We have {document_store.get_document_count()} documents i document store.\")"
   ]
  },
  {
   "cell_type": "code",
   "execution_count": null,
   "id": "5f7694f2-120e-4700-8a76-48f9cfeb98c2",
   "metadata": {},
   "outputs": [],
   "source": [
    "import pandas as pd\n",
    "\n",
    "df=pd.read_csv('data/books.csv')\n",
    "\n",
    "docs=[{\"content\":row['description'],\n",
    "       \"meta\":{'title':row['title']}}\n",
    "      for _,row in df.drop_duplicates(subset='title')\n",
    "      .iterrows()]\n",
    "\n",
    "document_store.write_documents(docs, index='documents')\n",
    "print(f\"Loaded {document_store.get_document_count()} documents\")"
   ]
  },
  {
   "cell_type": "code",
   "execution_count": 9,
   "id": "dae06b4c-5a74-4d0c-a2f7-6e9cc2992c32",
   "metadata": {},
   "outputs": [],
   "source": [
    "from haystack.nodes import BM25Retriever\n",
    "\n",
    "bm25_retriever=BM25Retriever(document_store=document_store)"
   ]
  },
  {
   "cell_type": "code",
   "execution_count": 10,
   "id": "836dd335-2680-4d30-9438-a9812ac43934",
   "metadata": {},
   "outputs": [],
   "source": [
    "from haystack.nodes import FARMReader\n",
    "\n",
    "model_ckpt='timpal0l/mdeberta-v3-base-squad2'\n",
    "max_seq_length, doc_stride=384, 128\n",
    "\n",
    "reader=FARMReader(model_name_or_path=model_ckpt,\n",
    "                  progress_bar=False,\n",
    "                  max_seq_len=max_seq_length,\n",
    "                  doc_stride=doc_stride,\n",
    "                  return_no_answer=True)"
   ]
  },
  {
   "cell_type": "code",
   "execution_count": null,
   "id": "268036ab-36b9-4241-9d6c-1bb160bf65f5",
   "metadata": {},
   "outputs": [],
   "source": [
    "from haystack.pipelines import ExtractiveQAPipeline\n",
    "\n",
    "pipe=ExtractiveQAPipeline(reader, bm25_retriever)"
   ]
  },
  {
   "cell_type": "markdown",
   "id": "2e0cf9f7-9e6c-4d5f-91b6-952ec6dd25b4",
   "metadata": {},
   "source": [
    "# Improving the QA Pipeline"
   ]
  },
  {
   "cell_type": "markdown",
   "id": "6ce25b07-1bb1-4708-a0fc-176057ed7d5a",
   "metadata": {},
   "source": [
    "## Evaluating the Retriever"
   ]
  },
  {
   "cell_type": "code",
   "execution_count": 11,
   "id": "9e82d194-0380-4821-9f7f-f510b0bb3460",
   "metadata": {},
   "outputs": [],
   "source": [
    "from haystack.pipelines import DocumentSearchPipeline\n",
    "\n",
    "pipe=DocumentSearchPipeline(retriever=bm25_retriever)"
   ]
  },
  {
   "cell_type": "code",
   "execution_count": null,
   "id": "013c0ef2-b7f7-462e-b8ea-f235f1230690",
   "metadata": {},
   "outputs": [],
   "source": [
    "import pandas as pd\n",
    "from haystack import Label, Answer, Document\n",
    "\n",
    "# Load your dataset into a Pandas DataFrame\n",
    "df = pd.read_csv(\"data/answers.csv\")\n",
    "\n",
    "labels = []\n",
    "for i, row in df.iterrows():\n",
    "    # Extract the question and answer text from the row\n",
    "    question = row[\"question\"]\n",
    "    answer_text = row[\"text\"]\n",
    "    # Extract metadata information from the row\n",
    "    meta = {\"item_id\": row[\"answer_id\"], \"question_id\": row[\"question_id\"]}\n",
    "    # Create a list of answers\n",
    "    answers = [Answer(answer=answer_text)]\n",
    "    # Create a Label object for each answer\n",
    "    for answer in answers:\n",
    "        label = Label(\n",
    "            query=question,\n",
    "            answer=answer,\n",
    "            origin=\"gold-label\",\n",
    "            document=Document(content=row[\"context\"], id=row[\"document_id\"]),\n",
    "            meta=meta,\n",
    "            is_correct_answer=True,\n",
    "            is_correct_document=True,\n",
    "            #filters={\"item_id\": [meta[\"item_id\"]], \"split\":[\"test\"]}\n",
    "        )\n",
    "        labels.append(label)\n",
    "\n",
    "document_store.delete_all_documents(index='label')\n",
    "document_store.write_labels(labels, index='label')\n",
    "\n",
    "print(f\"We have {document_store.get_label_count(index='label')} QA pairs.\")"
   ]
  },
  {
   "cell_type": "code",
   "execution_count": 12,
   "id": "943e35b4-0ff8-47c1-a330-e988615b6b79",
   "metadata": {},
   "outputs": [
    {
     "name": "stdout",
     "output_type": "stream",
     "text": [
      "390\n"
     ]
    }
   ],
   "source": [
    "labels_agg=document_store.get_all_labels_aggregated(\n",
    "    index='label',\n",
    "    open_domain=True,\n",
    "    #aggregate_by_meta=['item_id']\n",
    ")\n",
    "\n",
    "print(len(labels_agg))"
   ]
  },
  {
   "cell_type": "code",
   "execution_count": 13,
   "id": "918f98c3-3d1c-4072-8804-67f7af6f6901",
   "metadata": {},
   "outputs": [],
   "source": [
    "eval_result=pipe.eval(\n",
    "    labels=labels_agg,\n",
    "    params={'Retriever':{'top_k':3}}\n",
    ")\n",
    "\n",
    "metrics=eval_result.calculate_metrics()"
   ]
  },
  {
   "cell_type": "code",
   "execution_count": 14,
   "id": "f10f5dcf-0554-44eb-8ce7-669f8fabf335",
   "metadata": {},
   "outputs": [
    {
     "data": {
      "text/plain": [
       "0.6051282051282051"
      ]
     },
     "execution_count": 14,
     "metadata": {},
     "output_type": "execute_result"
    }
   ],
   "source": [
    "metrics['Retriever']['recall_single_hit']"
   ]
  },
  {
   "cell_type": "code",
   "execution_count": 16,
   "id": "f7cafe98-9e9c-4aca-9ba1-ca6fb625a013",
   "metadata": {},
   "outputs": [],
   "source": [
    "import pandas as pd\n",
    "\n",
    "def evaluate_retriever(retriever, topk_values=[1,3,5,10,20]):\n",
    "    topk_results={}\n",
    "    max_top_k=max(topk_values)\n",
    "    p=DocumentSearchPipeline(retriever=retriever)\n",
    "    eval_result=p.eval(\n",
    "        labels=labels_agg,\n",
    "        params={'Retriever':{'top_k':max_top_k}})\n",
    "    for topk in topk_values:\n",
    "        metrics=eval_result.calculate_metrics(simulated_top_k_retriever=topk)\n",
    "        topk_results[topk]={'recall':metrics['Retriever']['recall_single_hit']}\n",
    "    return pd.DataFrame.from_dict(topk_results, orient='index')\n",
    "\n",
    "bm25_topk_df=evaluate_retriever(bm25_retriever)"
   ]
  },
  {
   "cell_type": "code",
   "execution_count": 17,
   "id": "ce54bf42-c62c-44a2-b574-e3b1460be420",
   "metadata": {},
   "outputs": [
    {
     "data": {
      "image/png": "[encoded data removed]",
      "text/plain": [
       "<Figure size 432x288 with 1 Axes>"
      ]
     },
     "metadata": {
      "needs_background": "light"
     },
     "output_type": "display_data"
    }
   ],
   "source": [
    "def plot_retriever_eval(dfs, retriever_names):\n",
    "    fig, ax=plt.subplots()\n",
    "    for df, retriever_name in zip(dfs, retriever_names):\n",
    "        df.plot(y='recall', ax=ax, label=retriever_name)\n",
    "    plt.xticks(df.index)\n",
    "    plt.xlabel('k')\n",
    "    plt.ylabel('Top-k Recall')\n",
    "    plt.show()\n",
    "\n",
    "plot_retriever_eval([bm25_topk_df], ['BM25'])"
   ]
  },
  {
   "cell_type": "code",
   "execution_count": 18,
   "id": "27855ced-264a-4d4c-8ec2-da1ac7e04483",
   "metadata": {},
   "outputs": [
    {
     "data": {
      "application/vnd.jupyter.widget-view+json": {
       "model_id": "b4c4bf85b9954093bdf6c645e1b59aca",
       "version_major": 2,
       "version_minor": 0
      },
      "text/plain": [
       "Downloading (…)okenizer_config.json:   0%|          | 0.00/271 [00:00<?, ?B/s]"
      ]
     },
     "metadata": {},
     "output_type": "display_data"
    },
    {
     "data": {
      "application/vnd.jupyter.widget-view+json": {
       "model_id": "d56321f552ba4722a786e232c9a3ae6b",
       "version_major": 2,
       "version_minor": 0
      },
      "text/plain": [
       "Downloading (…)solve/main/vocab.txt:   0%|          | 0.00/996k [00:00<?, ?B/s]"
      ]
     },
     "metadata": {},
     "output_type": "display_data"
    },
    {
     "data": {
      "application/vnd.jupyter.widget-view+json": {
       "model_id": "42aadb925d2a490aa958dec214de558a",
       "version_major": 2,
       "version_minor": 0
      },
      "text/plain": [
       "Downloading (…)/main/tokenizer.json:   0%|          | 0.00/1.96M [00:00<?, ?B/s]"
      ]
     },
     "metadata": {},
     "output_type": "display_data"
    },
    {
     "data": {
      "application/vnd.jupyter.widget-view+json": {
       "model_id": "82836b2c697246418dde88e54fca0b45",
       "version_major": 2,
       "version_minor": 0
      },
      "text/plain": [
       "Downloading (…)lve/main/config.json:   0%|          | 0.00/616 [00:00<?, ?B/s]"
      ]
     },
     "metadata": {},
     "output_type": "display_data"
    },
    {
     "data": {
      "application/vnd.jupyter.widget-view+json": {
       "model_id": "cfeb4adb143542c9bc3f81759dd49013",
       "version_major": 2,
       "version_minor": 0
      },
      "text/plain": [
       "Downloading pytorch_model.bin:   0%|          | 0.00/712M [00:00<?, ?B/s]"
      ]
     },
     "metadata": {},
     "output_type": "display_data"
    },
    {
     "data": {
      "application/vnd.jupyter.widget-view+json": {
       "model_id": "312372f952254f25980250e2f18d6813",
       "version_major": 2,
       "version_minor": 0
      },
      "text/plain": [
       "Downloading (…)okenizer_config.json:   0%|          | 0.00/271 [00:00<?, ?B/s]"
      ]
     },
     "metadata": {},
     "output_type": "display_data"
    },
    {
     "data": {
      "application/vnd.jupyter.widget-view+json": {
       "model_id": "9faaa91f4ec741cd93679909f499a2fd",
       "version_major": 2,
       "version_minor": 0
      },
      "text/plain": [
       "Downloading (…)solve/main/vocab.txt:   0%|          | 0.00/996k [00:00<?, ?B/s]"
      ]
     },
     "metadata": {},
     "output_type": "display_data"
    },
    {
     "data": {
      "application/vnd.jupyter.widget-view+json": {
       "model_id": "4433f9d14b364eeb89cb458511abf831",
       "version_major": 2,
       "version_minor": 0
      },
      "text/plain": [
       "Downloading (…)/main/tokenizer.json:   0%|          | 0.00/1.96M [00:00<?, ?B/s]"
      ]
     },
     "metadata": {},
     "output_type": "display_data"
    },
    {
     "data": {
      "application/vnd.jupyter.widget-view+json": {
       "model_id": "a62c7a0b3d4f404b8413cb54370b5f4c",
       "version_major": 2,
       "version_minor": 0
      },
      "text/plain": [
       "Downloading (…)lve/main/config.json:   0%|          | 0.00/614 [00:00<?, ?B/s]"
      ]
     },
     "metadata": {},
     "output_type": "display_data"
    },
    {
     "data": {
      "application/vnd.jupyter.widget-view+json": {
       "model_id": "59efd07bacd84165887c817ea69cbc1d",
       "version_major": 2,
       "version_minor": 0
      },
      "text/plain": [
       "Downloading pytorch_model.bin:   0%|          | 0.00/712M [00:00<?, ?B/s]"
      ]
     },
     "metadata": {},
     "output_type": "display_data"
    }
   ],
   "source": [
    "from haystack.nodes import DensePassageRetriever\n",
    "\n",
    "dpr_retriever=DensePassageRetriever(\n",
    "    document_store=document_store,\n",
    "    query_embedding_model='voidful/dpr-question_encoder-bert-base-multilingual',\n",
    "    passage_embedding_model='voidful/dpr-ctx_encoder-bert-base-multilingual',\n",
    "    embed_title=False\n",
    ")"
   ]
  },
  {
   "cell_type": "code",
   "execution_count": 19,
   "id": "6ecf0c1a-4594-42a0-954a-f1442fa0f3a5",
   "metadata": {},
   "outputs": [
    {
     "data": {
      "application/vnd.jupyter.widget-view+json": {
       "model_id": "78976073b3fe48959f8155f29abab321",
       "version_major": 2,
       "version_minor": 0
      },
      "text/plain": [
       "Updating embeddings:   0%|          | 0/2981 [00:00<?, ? Docs/s]"
      ]
     },
     "metadata": {},
     "output_type": "display_data"
    },
    {
     "data": {
      "application/vnd.jupyter.widget-view+json": {
       "model_id": "",
       "version_major": 2,
       "version_minor": 0
      },
      "text/plain": [
       "Create embeddings:   0%|          | 0/2992 [00:00<?, ? Docs/s]"
      ]
     },
     "metadata": {},
     "output_type": "display_data"
    }
   ],
   "source": [
    "document_store.update_embeddings(retriever=dpr_retriever)"
   ]
  },
  {
   "cell_type": "code",
   "execution_count": 20,
   "id": "f830c222-a215-443e-89e8-0e1327d7916f",
   "metadata": {},
   "outputs": [
    {
     "data": {
      "image/png": "[encoded data removed]",
      "text/plain": [
       "<Figure size 432x288 with 1 Axes>"
      ]
     },
     "metadata": {
      "needs_background": "light"
     },
     "output_type": "display_data"
    }
   ],
   "source": [
    "dpr_topk_df=evaluate_retriever(dpr_retriever)\n",
    "\n",
    "plot_retriever_eval([bm25_topk_df, dpr_topk_df], ['BM25', 'DPR'])"
   ]
  },
  {
   "cell_type": "markdown",
   "id": "c6d3f8a4-c9b8-49cf-b3ef-63d0b3f7cc27",
   "metadata": {},
   "source": [
    "## Evaluating the Reader"
   ]
  },
  {
   "cell_type": "code",
   "execution_count": 21,
   "id": "04e064e5-53da-4c65-9f34-bbebe263a77a",
   "metadata": {},
   "outputs": [],
   "source": [
    "from haystack.modeling.evaluation.squad import compute_f1, compute_exact\n",
    "from haystack.pipelines import Pipeline\n",
    "\n",
    "def evaluate_reader(reader):\n",
    "    score_keys=['exact_match', 'f1']\n",
    "    p=Pipeline()\n",
    "    p.add_node(component=reader, name='Reader', inputs=['Query'])\n",
    "    \n",
    "    eval_result=p.eval(\n",
    "        labels=labels_agg,\n",
    "        documents=[[label.document for label in multilabel.labels] for multilabel in labels_agg]\n",
    "    )\n",
    "    metrics=eval_result.calculate_metrics(simulated_top_k_reader=1)\n",
    "    return {k:v for k,v in metrics['Reader'].items() if k in score_keys}\n",
    "\n",
    "reader_eval={}\n",
    "reader_eval['Fine-tune on SQuAD']=evaluate_reader(reader)"
   ]
  },
  {
   "cell_type": "code",
   "execution_count": 22,
   "id": "f5d1b127-dbcc-4641-b72f-567f6e60bb2e",
   "metadata": {},
   "outputs": [
    {
     "data": {
      "image/png": "[encoded data removed]",
      "text/plain": [
       "<Figure size 432x288 with 1 Axes>"
      ]
     },
     "metadata": {
      "needs_background": "light"
     },
     "output_type": "display_data"
    }
   ],
   "source": [
    "def plot_reader_eval(reader_eval):\n",
    "    fig, ax=plt.subplots()\n",
    "    df=pd.DataFrame.from_dict(reader_eval)\n",
    "    df.plot(kind='bar', ylabel='Score', rot=0, ax=ax)\n",
    "    ax.set_xticklabels(['EM', 'F1'])\n",
    "    plt.legend(loc='upper left')\n",
    "    plt.show()\n",
    "\n",
    "plot_reader_eval(reader_eval)"
   ]
  },
  {
   "cell_type": "code",
   "execution_count": 23,
   "id": "6fbb07b4-ed9a-4ca5-9a1d-fca8cd787e72",
   "metadata": {},
   "outputs": [],
   "source": [
    "reader=FARMReader(model_name_or_path='mdeberta-model',\n",
    "                  progress_bar=False,\n",
    "                  max_seq_len=max_seq_length,\n",
    "                  doc_stride=doc_stride,\n",
    "                  return_no_answer=True)"
   ]
  },
  {
   "cell_type": "code",
   "execution_count": 24,
   "id": "156f3642-df90-49f7-a5d9-c4639f2e789e",
   "metadata": {},
   "outputs": [
    {
     "data": {
      "image/png": "[encoded data removed]",
      "text/plain": [
       "<Figure size 432x288 with 1 Axes>"
      ]
     },
     "metadata": {
      "needs_background": "light"
     },
     "output_type": "display_data"
    }
   ],
   "source": [
    "reader_eval[\"Fine-tune on SQuAD + AsaxiyQuAD\"] = evaluate_reader(reader)\n",
    "\n",
    "plot_reader_eval(reader_eval)"
   ]
  },
  {
   "cell_type": "code",
   "execution_count": 25,
   "id": "c48799c7-3f14-4743-9f5b-cb5eeacb3798",
   "metadata": {},
   "outputs": [],
   "source": [
    "uz_reader=FARMReader(model_name_or_path='uzroberta-model',\n",
    "                  progress_bar=False,\n",
    "                  max_seq_len=max_seq_length,\n",
    "                  doc_stride=doc_stride,\n",
    "                  return_no_answer=True)"
   ]
  },
  {
   "cell_type": "code",
   "execution_count": 26,
   "id": "d96312c6-945a-4871-b83e-928abe56875f",
   "metadata": {},
   "outputs": [
    {
     "data": {
      "image/png": "[encoded data removed]",
      "text/plain": [
       "<Figure size 432x288 with 1 Axes>"
      ]
     },
     "metadata": {
      "needs_background": "light"
     },
     "output_type": "display_data"
    }
   ],
   "source": [
    "reader_eval[\"Fine-tune on AsaxiyQuAD\"] = evaluate_reader(uz_reader)\n",
    "\n",
    "plot_reader_eval(reader_eval)"
   ]
  },
  {
   "cell_type": "markdown",
   "id": "80730abe-ca92-41c2-8a15-64341410e605",
   "metadata": {},
   "source": [
    "## Evaluating the whole pipeline"
   ]
  },
  {
   "cell_type": "code",
   "execution_count": 29,
   "id": "0d900fa2-c062-4d0d-9b89-79617d15febd",
   "metadata": {},
   "outputs": [
    {
     "data": {
      "image/png": "[encoded data removed]",
      "text/plain": [
       "<Figure size 432x288 with 1 Axes>"
      ]
     },
     "metadata": {
      "needs_background": "light"
     },
     "output_type": "display_data"
    }
   ],
   "source": [
    "from haystack.pipelines import ExtractiveQAPipeline\n",
    "pipe = ExtractiveQAPipeline(retriever=bm25_retriever, reader=reader)\n",
    "\n",
    "# Evaluate!\n",
    "eval_result = pipe.eval(\n",
    "    labels=labels_agg,\n",
    "    params={},\n",
    ")\n",
    "metrics = eval_result.calculate_metrics(simulated_top_k_reader=1)\n",
    "# Extract metrics from reader\n",
    "reader_eval[\"QA Pipeline (top-1)\"] = {\n",
    "    k:v for k,v in metrics[\"Reader\"].items()\n",
    "    if k in [\"exact_match\", \"f1\"]}\n",
    "     \n",
    "\n",
    "plot_reader_eval({\"Reader\": reader_eval[\"Fine-tune on SQuAD + AsaxiyQuAD\"], \n",
    "                  \"QA pipeline (top-1)\": reader_eval[\"QA Pipeline (top-1)\"]})\n",
    "\n",
    "plot_reader_eval({\"Reader\": reader_eval[\"Fine-tune on SQuAD + AsaxiyQuAD\"], \n",
    "                  \"QA pipeline (top-1)\": reader_eval[\"QA Pipeline (top-1)\"]})"
   ]
  },
  {
   "cell_type": "code",
   "execution_count": null,
   "id": "115cef26-ac28-4f7a-8a56-e0ce0f2794f2",
   "metadata": {},
   "outputs": [],
   "source": []
  }
 ],
 "metadata": {
  "kernelspec": {
   "display_name": "Python 3 (ipykernel)",
   "language": "python",
   "name": "python3"
  },
  "language_info": {
   "codemirror_mode": {
    "name": "ipython",
    "version": 3
   },
   "file_extension": ".py",
   "mimetype": "text/x-python",
   "name": "python",
   "nbconvert_exporter": "python",
   "pygments_lexer": "ipython3",
   "version": "3.9.13"
  }
 },
 "nbformat": 4,
 "nbformat_minor": 5
}
