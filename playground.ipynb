{
 "cells": [
  {
   "cell_type": "markdown",
   "id": "4712e16a-84ab-4e9d-af17-75ed698b6c2a",
   "metadata": {},
   "source": [
    "# Setuo and importing"
   ]
  },
  {
   "cell_type": "code",
   "execution_count": 1,
   "id": "a71f9bac-4b5e-4031-8993-422c8d95af58",
   "metadata": {},
   "outputs": [
    {
     "name": "stdout",
     "output_type": "stream",
     "text": [
      "Using transformers v4.25.1\n",
      "Using datasets v2.11.0\n"
     ]
    }
   ],
   "source": [
    "from utils import *\n",
    "\n",
    "setup_notebook()"
   ]
  },
  {
   "cell_type": "code",
   "execution_count": 2,
   "id": "9c8be998-8c3d-44a8-98f4-749b864e5a18",
   "metadata": {},
   "outputs": [],
   "source": [
    "!apt-get install -qq git-lfs\n",
    "\n",
    "import os\n",
    "os.environ['TOKENIZERS_PARALLELISM']='false'\n",
    "\n",
    "import warnings, logging\n",
    "warnings.simplefilter('ignore')\n",
    "logging.disable(logging.WARNING)"
   ]
  },
  {
   "cell_type": "markdown",
   "id": "58cbd0f1-5edb-404e-9cb2-5a9251e01f9b",
   "metadata": {},
   "source": [
    "# Understanding QA models"
   ]
  },
  {
   "cell_type": "code",
   "execution_count": 3,
   "id": "ea6062b0-3188-4d8b-905a-cf5b57b41afe",
   "metadata": {},
   "outputs": [],
   "source": [
    "from transformers import AutoTokenizer\n",
    "\n",
    "model_ckpt='timpal0l/mdeberta-v3-base-squad2'\n",
    "tokenizer=AutoTokenizer.from_pretrained(model_ckpt)"
   ]
  },
  {
   "cell_type": "code",
   "execution_count": 4,
   "id": "b0cae61f-45f3-463d-84f8-535d431b9ade",
   "metadata": {},
   "outputs": [],
   "source": [
    "question=\"Kitob nechta ertakni o'z ichiga olgan?\"\n",
    "\n",
    "context=\"\"\"Har bir ertak taxminan 20 bet, demak 6 ta atrofida.\"\"\"\n",
    "inputs = tokenizer(question, context, return_tensors=\"pt\")"
   ]
  },
  {
   "cell_type": "code",
   "execution_count": 5,
   "id": "be51576c-dadf-47d4-806b-f3a85c6c7988",
   "metadata": {},
   "outputs": [
    {
     "name": "stdout",
     "output_type": "stream",
     "text": [
      "QuestionAnsweringModelOutput(loss=None, start_logits=tensor([[ 0.5172, -4.3441,\n",
      "-5.9494, -7.2650, -8.1800, -6.0313, -7.6376, -7.1800,\n",
      "         -8.3940, -6.6228, -5.4741, -8.2812, -7.6467, -6.7636, -7.2952, -6.1489,\n",
      "         -5.7124, -4.9122,  1.6223, -2.3908, -1.5162, -4.8480, -0.0995, -5.5776,\n",
      "          1.6068, -2.8450, -4.3370, -2.2788, -5.3245,  4.8877, -3.9196, -6.9470,\n",
      "         -5.2992, -6.2171, -4.6565, -6.2596]]), end_logits=tensor([[ 0.6851,\n",
      "-6.1655, -4.0074, -8.2618, -5.5342, -7.8061, -6.2753, -5.1088,\n",
      "         -6.5025, -8.4469, -4.9712, -7.3006, -7.6850, -6.2573, -7.1274, -5.1988,\n",
      "         -4.7574, -6.4330, -3.1207, -1.6069, -5.0678,  0.3288, -5.2143, -5.6684,\n",
      "          1.3895,  0.6635, -0.9423, -5.5520, -5.0273,  4.6625,  3.0775, -2.5707,\n",
      "         -2.5025,  1.0708,  1.0506, -6.3434]]), hidden_states=None,\n",
      "attentions=None)\n"
     ]
    }
   ],
   "source": [
    "import torch\n",
    "from transformers import AutoModelForQuestionAnswering\n",
    "\n",
    "model = AutoModelForQuestionAnswering.from_pretrained(model_ckpt)\n",
    "\n",
    "with torch.no_grad():\n",
    "    outputs = model(**inputs)\n",
    "print(outputs)"
   ]
  },
  {
   "cell_type": "code",
   "execution_count": 6,
   "id": "0c6a6291-1eba-459b-bf77-f5394e28ee6b",
   "metadata": {},
   "outputs": [
    {
     "data": {
      "image/png": "[encoded data removed]",
      "text/plain": [
       "<Figure size 864x576 with 2 Axes>"
      ]
     },
     "metadata": {
      "needs_background": "light"
     },
     "output_type": "display_data"
    }
   ],
   "source": [
    "start_logits = outputs.start_logits\n",
    "end_logits = outputs.end_logits\n",
    "\n",
    "import numpy as np\n",
    "import matplotlib.pyplot as plt\n",
    "\n",
    "s_scores = start_logits.detach().numpy().flatten()\n",
    "e_scores = end_logits.detach().numpy().flatten()\n",
    "tokens = tokenizer.convert_ids_to_tokens(inputs[\"input_ids\"][0])\n",
    "token_ids = range(len(tokens))\n",
    "\n",
    "fig, (ax1, ax2) = plt.subplots(nrows=2, sharex=True, figsize=(12, 8))\n",
    "colors = [\"C0\" if s != np.max(s_scores) else \"C1\" for s in s_scores]\n",
    "ax1.bar(x=token_ids, height=s_scores, color=colors)\n",
    "ax1.set_ylabel(\"Start Scores\")\n",
    "colors = [\"C0\" if s != np.max(e_scores) else \"C1\" for s in e_scores]\n",
    "ax2.bar(x=token_ids, height=e_scores, color=colors)\n",
    "ax2.set_ylabel(\"End Scores\")\n",
    "plt.xticks(token_ids, tokens, rotation=\"vertical\")\n",
    "plt.show()"
   ]
  },
  {
   "cell_type": "code",
   "execution_count": 7,
   "id": "98f0779b-64e3-4891-bc19-38e67a9b87cf",
   "metadata": {},
   "outputs": [
    {
     "name": "stdout",
     "output_type": "stream",
     "text": [
      "Question: Kitob nechta ertakni o'z ichiga olgan?\n",
      "Answer: 6\n"
     ]
    }
   ],
   "source": [
    "start_idx = torch.argmax(start_logits)  \n",
    "end_idx = torch.argmax(end_logits) + 1  \n",
    "answer_span = inputs[\"input_ids\"][0][start_idx:end_idx]\n",
    "answer = tokenizer.decode(answer_span)\n",
    "print(f\"Question: {question}\")\n",
    "print(f\"Answer: {answer}\")"
   ]
  },
  {
   "cell_type": "markdown",
   "id": "cea13e8c-f1a6-4564-a8f0-b6cdd7ff9897",
   "metadata": {},
   "source": [
    "# Why we need retriever"
   ]
  },
  {
   "cell_type": "code",
   "execution_count": 8,
   "id": "0ddfe503-9390-4e7a-b884-67bc703278e9",
   "metadata": {},
   "outputs": [],
   "source": [
    "if not os.path.exists('elasticsearch-7.9.2'):\n",
    "    ! wget https://artifacts.elastic.co/downloads/elasticsearch/elasticsearch-7.9.2-linux-x86_64.tar.gz -q\n",
    "    ! tar -xzf elasticsearch-7.9.2-linux-x86_64.tar.gz\n",
    "    ! chown -R daemon:daemon elasticsearch-7.9.2"
   ]
  },
  {
   "cell_type": "code",
   "execution_count": 9,
   "id": "2f03d22c-6036-4acd-91d0-86edbb5ce4a8",
   "metadata": {},
   "outputs": [],
   "source": [
    "%%bash --bg\n",
    "\n",
    "sudo -u daemon -- elasticsearch-7.9.2/bin/elasticsearch"
   ]
  },
  {
   "cell_type": "code",
   "execution_count": 10,
   "id": "d4be5d23-20ba-47d5-819b-154b74b49e8d",
   "metadata": {},
   "outputs": [],
   "source": [
    "import time\n",
    "\n",
    "time.sleep(30)"
   ]
  },
  {
   "cell_type": "code",
   "execution_count": 11,
   "id": "2450a5de-9053-49f6-a12d-8545f40d8ded",
   "metadata": {},
   "outputs": [
    {
     "name": "stdout",
     "output_type": "stream",
     "text": [
      "{\n",
      "  \"name\" : \"nsh6lp2hal\",\n",
      "  \"cluster_name\" : \"elasticsearch\",\n",
      "  \"cluster_uuid\" : \"84RYn7Q3Rr-3lyKlq_dCdw\",\n",
      "  \"version\" : {\n",
      "    \"number\" : \"7.9.2\",\n",
      "    \"build_flavor\" : \"default\",\n",
      "    \"build_type\" : \"tar\",\n",
      "    \"build_hash\" : \"d34da0ea4a966c4e49417f2da2f244e3e97b4e6e\",\n",
      "    \"build_date\" : \"2020-09-23T00:45:33.626720Z\",\n",
      "    \"build_snapshot\" : false,\n",
      "    \"lucene_version\" : \"8.6.2\",\n",
      "    \"minimum_wire_compatibility_version\" : \"6.8.0\",\n",
      "    \"minimum_index_compatibility_version\" : \"6.0.0-beta1\"\n",
      "  },\n",
      "  \"tagline\" : \"You Know, for Search\"\n",
      "}\n"
     ]
    }
   ],
   "source": [
    "!curl -X GET \"localhost:9200/?pretty\""
   ]
  },
  {
   "cell_type": "code",
   "execution_count": 12,
   "id": "90a77479-4fd1-4dbb-a7ea-1abfaf777da9",
   "metadata": {},
   "outputs": [],
   "source": [
    "from haystack.document_stores import ElasticsearchDocumentStore\n",
    "\n",
    "host=os.environ.get(\"ELASTICSEARCH_HOST\", \"localhost\")\n",
    "document_store=ElasticsearchDocumentStore(\n",
    "    host=host,\n",
    "    port=9200,\n",
    "    username=\"elastic\",\n",
    "    password=\"32HKbWu8IFllgjU67oLNWQfz\",\n",
    "    index='documents'\n",
    ")"
   ]
  },
  {
   "cell_type": "code",
   "execution_count": 13,
   "id": "3c59a928-b312-42d5-878d-487ca2f3ee6d",
   "metadata": {},
   "outputs": [
    {
     "name": "stdout",
     "output_type": "stream",
     "text": [
      "We have 2981 documents i document store.\n"
     ]
    }
   ],
   "source": [
    "print(f\"We have {document_store.get_document_count()} documents i document store.\")"
   ]
  },
  {
   "cell_type": "code",
   "execution_count": 14,
   "id": "7be82374-b04b-4cb5-a1f2-d44e5d32ed45",
   "metadata": {},
   "outputs": [],
   "source": [
    "from haystack.nodes import FARMReader\n",
    "\n",
    "max_seq_length, doc_stride=384, 128\n",
    "\n",
    "reader=FARMReader(model_name_or_path='mdeberta-model',\n",
    "                  progress_bar=False,\n",
    "                  max_seq_len=max_seq_length,\n",
    "                  doc_stride=doc_stride,\n",
    "                  return_no_answer=True)"
   ]
  },
  {
   "cell_type": "code",
   "execution_count": 15,
   "id": "18d57a93-2968-4437-b09c-c8804aa79b75",
   "metadata": {},
   "outputs": [],
   "source": [
    "from time import time\n",
    "import pandas as pd\n",
    "\n",
    "df=pd.read_csv('data/books.csv')\n",
    "docs=[row['description'] for _,row in df.drop_duplicates(subset='title').iterrows()]\n",
    "\n",
    "question=\"O'qishga qaysi romanni tafsiya qilasiz?\""
   ]
  },
  {
   "cell_type": "code",
   "execution_count": 16,
   "id": "7186aee9-3dcf-4e75-9b18-8468fdb21fbb",
   "metadata": {},
   "outputs": [
    {
     "name": "stdout",
     "output_type": "stream",
     "text": [
      "Time taken to read documents: 165.86813831329346 seconds.\n"
     ]
    }
   ],
   "source": [
    "# Measure the time it takes to read documents\n",
    "start = time()\n",
    "reader.predict_on_texts(question=question, texts=docs, top_k=1)\n",
    "end = time()\n",
    "reader_time=end-start\n",
    "print(f\"Time taken to read documents: {reader_time} seconds.\")"
   ]
  },
  {
   "cell_type": "code",
   "execution_count": 17,
   "id": "431a1e96-24ca-47f5-8b79-b1e69924f8ba",
   "metadata": {},
   "outputs": [],
   "source": [
    "from haystack.pipelines import ExtractiveQAPipeline\n",
    "from haystack.nodes import BM25Retriever\n",
    "\n",
    "bm25_retriever=BM25Retriever(document_store=document_store)\n",
    "pipe=ExtractiveQAPipeline(reader, bm25_retriever)"
   ]
  },
  {
   "cell_type": "code",
   "execution_count": 22,
   "id": "ba59f7c2-b0eb-4d66-9eb1-7e0031b70e24",
   "metadata": {},
   "outputs": [
    {
     "name": "stdout",
     "output_type": "stream",
     "text": [
      "Time taken to execute the pipeline: 0.14533638954162598 seconds.\n"
     ]
    }
   ],
   "source": [
    "start=time()\n",
    "preds=pipe.run(query=question, params={\"Retriever\": {\"top_k\": 3}, \n",
    "                                      \"Reader\": {\"top_k\": 1}})\n",
    "end = time()\n",
    "pipeline_time=end-start\n",
    "print(f\"Time taken to execute the pipeline: {pipeline_time} seconds.\")"
   ]
  },
  {
   "cell_type": "code",
   "execution_count": 23,
   "id": "497e27b9-85fe-4508-875d-ce27d96e815d",
   "metadata": {},
   "outputs": [
    {
     "name": "stdout",
     "output_type": "stream",
     "text": [
      "We have 1141.2705299507043 times improvement from executing retriever.\n"
     ]
    }
   ],
   "source": [
    "print(f\"We have {reader_time/pipeline_time} times improvement from executing retriever.\")"
   ]
  },
  {
   "cell_type": "code",
   "execution_count": null,
   "id": "4b7bdbd5-a7f5-49ca-a3a0-080e1ce35207",
   "metadata": {},
   "outputs": [],
   "source": []
  }
 ],
 "metadata": {
  "kernelspec": {
   "display_name": "Python 3 (ipykernel)",
   "language": "python",
   "name": "python3"
  },
  "language_info": {
   "codemirror_mode": {
    "name": "ipython",
    "version": 3
   },
   "file_extension": ".py",
   "mimetype": "text/x-python",
   "name": "python",
   "nbconvert_exporter": "python",
   "pygments_lexer": "ipython3",
   "version": "3.9.13"
  }
 },
 "nbformat": 4,
 "nbformat_minor": 5
}
